{
 "cells": [
  {
   "cell_type": "code",
   "execution_count": 1,
   "metadata": {
    "slideshow": {
     "slide_type": "skip"
    }
   },
   "outputs": [],
   "source": [
    "# ============================================================\n",
    "# Notebook setup\n",
    "# ============================================================\n",
    "\n",
    "%load_ext autoreload\n",
    "%autoreload 2\n",
    "\n",
    "# Control figure size\n",
    "interactive_figures = False\n",
    "if interactive_figures:\n",
    "    # Normal behavior\n",
    "    %matplotlib widget\n",
    "    figsize=(9, 3)\n",
    "else:\n",
    "    # PDF export behavior\n",
    "    figsize=(14, 5)\n",
    "\n",
    "from util import cmapss\n",
    "import numpy as np\n",
    "from matplotlib import pyplot as plt\n",
    "import pandas as pd\n",
    "from tensorflow import keras\n",
    "from tensorflow.keras import layers, callbacks\n",
    "from tensorflow_probability import distributions\n",
    "from sklearn.metrics import r2_score\n",
    "\n",
    "# Load data\n",
    "data_folder = '/app/data'\n",
    "data = cmapss.load_data(data_folder)\n",
    "\n",
    "# Identify input columns\n",
    "dt_in = list(data.columns[3:-1])\n",
    "\n",
    "# Focus on a subset of the data\n",
    "data_by_src = cmapss.split_by_field(data, field='src')\n",
    "dt = data_by_src['train_FD004']\n",
    "\n",
    "# Split training and test machines\n",
    "tr_ratio = 0.75\n",
    "np.random.seed(42)\n",
    "machines = dt.machine.unique()\n",
    "np.random.shuffle(machines)\n",
    "\n",
    "sep = int(tr_ratio * len(machines))\n",
    "tr_mcn = machines[:sep]\n",
    "ts_mcn = machines[sep:]\n",
    "\n",
    "tr, ts = cmapss.partition_by_machine(dt, tr_mcn)\n",
    "\n",
    "# Standardization and normalization\n",
    "trmean = tr[dt_in].mean()\n",
    "trstd = tr[dt_in].std().replace(to_replace=0, value=1) # handle static fields\n",
    "ts_s = ts.copy()\n",
    "ts_s[dt_in] = (ts_s[dt_in] - trmean) / trstd\n",
    "tr_s = tr.copy()\n",
    "tr_s[dt_in] = (tr_s[dt_in] - trmean) / trstd\n",
    "\n",
    "trmaxrul = tr['rul'].max()\n",
    "ts_s['rul'] = ts['rul'] / trmaxrul \n",
    "tr_s['rul'] = tr['rul'] / trmaxrul \n",
    "\n",
    "# Define a cost model\n",
    "failtimes = dt.groupby('machine')['cycle'].max()\n",
    "safe_interval = failtimes.min()\n",
    "maintenance_cost = failtimes.max()\n",
    "cmodel = cmapss.RULCostModel(maintenance_cost=maintenance_cost, safe_interval=safe_interval)\n",
    "\n",
    "# Sliding window input\n",
    "wlen = 3\n",
    "tr_sw, tr_sw_m, tr_sw_r = cmapss.sliding_window_by_machine(tr_s, wlen, dt_in)\n",
    "ts_sw, ts_sw_m, ts_sw_r = cmapss.sliding_window_by_machine(ts_s, wlen, dt_in)"
   ]
  },
  {
   "cell_type": "markdown",
   "metadata": {
    "slideshow": {
     "slide_type": "slide"
    }
   },
   "source": [
    "# RUL Prediction as Classification"
   ]
  },
  {
   "cell_type": "markdown",
   "metadata": {
    "slideshow": {
     "slide_type": "subslide"
    }
   },
   "source": [
    "## RUL Prediction as Classification\n",
    "\n",
    "**RUL-based maintenance can also be tackled _using a classifier_**\n",
    "\n",
    "* We build a classifier to determine whether a failure will occur in $\\theta$ steps\n",
    "* We stop as soon as the classifier outputs (say) a 0, i.e.\n",
    "\n",
    "$$\n",
    "f_\\theta(x, \\lambda) = 0\n",
    "$$\n",
    "\n",
    "* $f$ is the classifier, with parameter vector $\\lambda$\n",
    "* $\\theta$ is the horizon for detecting a failure\n",
    "\n",
    "**In a sense, we are trying to learn _directly_ a maintenance policy**\n",
    "\n",
    "* The policy is the form \"stop $\\theta$ units before a failure\"\n",
    "* The classifier tries to learn it"
   ]
  },
  {
   "cell_type": "markdown",
   "metadata": {
    "slideshow": {
     "slide_type": "subslide"
    }
   },
   "source": [
    "## Classifier Architecture\n",
    "\n",
    "**We can therefore immediately define our classifier architecture:**"
   ]
  },
  {
   "cell_type": "code",
   "execution_count": 2,
   "metadata": {},
   "outputs": [],
   "source": [
    "def build_classifier(hidden):\n",
    "    input_shape = (len(dt_in), )\n",
    "    model_in = keras.Input(shape=input_shape, dtype='float32')\n",
    "    x = model_in\n",
    "    for h in hidden:\n",
    "        x = layers.Dense(h, activation='relu')(x)\n",
    "    model_out = layers.Dense(1, activation='sigmoid')(x)\n",
    "    model = keras.Model(model_in, model_out)\n",
    "    return model"
   ]
  },
  {
   "cell_type": "markdown",
   "metadata": {},
   "source": [
    "* Like in the regression case, we use a Multilayer Perceptron\n",
    "* The only difference is the use of a sigmoid activation in the output layer\n",
    "* For `hidden = []` we get Logistic Regression"
   ]
  },
  {
   "cell_type": "markdown",
   "metadata": {
    "slideshow": {
     "slide_type": "subslide"
    }
   },
   "source": [
    "## Training\n",
    "\n",
    "**Before training, we need to define the classes**\n",
    "\n",
    "In turn, this requires to define the detection horizon $\\theta$:"
   ]
  },
  {
   "cell_type": "code",
   "execution_count": 3,
   "metadata": {},
   "outputs": [],
   "source": [
    "class_thr = 15\n",
    "tr_lbl = (tr['rul'] >= class_thr)\n",
    "ts_lbl = (ts['rul'] >= class_thr)"
   ]
  },
  {
   "cell_type": "markdown",
   "metadata": {},
   "source": [
    "* The class is \"1\" if a failure is more than $\\theta$ steps away\n",
    "* The class if \"0\" otherwise\n",
    "\n",
    "**Classification problems _tend to be easier_ than regression problems**\n",
    "\n",
    "* On the other hand, learning the whole policy\n",
    "* ...May be trickier than just estimating the RUL \n"
   ]
  },
  {
   "cell_type": "markdown",
   "metadata": {
    "slideshow": {
     "slide_type": "subslide"
    }
   },
   "source": [
    "## Training\n",
    "\n",
    "**Let's start by training the simplest possible model**"
   ]
  },
  {
   "cell_type": "code",
   "execution_count": 4,
   "metadata": {
    "scrolled": true
   },
   "outputs": [
    {
     "name": "stdout",
     "output_type": "stream",
     "text": [
      "Epoch 1/20\n",
      "1135/1135 [==============================] - 1s 636us/step - loss: 0.5097 - val_loss: 0.3793\n",
      "Epoch 2/20\n",
      "1135/1135 [==============================] - 1s 552us/step - loss: 0.3081 - val_loss: 0.2705\n",
      "Epoch 3/20\n",
      "1135/1135 [==============================] - 1s 549us/step - loss: 0.2378 - val_loss: 0.2313\n",
      "Epoch 4/20\n",
      "1135/1135 [==============================] - 1s 556us/step - loss: 0.2106 - val_loss: 0.2157\n",
      "Epoch 5/20\n",
      "1135/1135 [==============================] - 1s 551us/step - loss: 0.1983 - val_loss: 0.2082\n",
      "Epoch 6/20\n",
      "1135/1135 [==============================] - 1s 554us/step - loss: 0.1913 - val_loss: 0.2025\n",
      "Epoch 7/20\n",
      "1135/1135 [==============================] - 1s 556us/step - loss: 0.1856 - val_loss: 0.1976\n",
      "Epoch 8/20\n",
      "1135/1135 [==============================] - 1s 552us/step - loss: 0.1808 - val_loss: 0.1930\n",
      "Epoch 9/20\n",
      "1135/1135 [==============================] - 1s 550us/step - loss: 0.1766 - val_loss: 0.1889\n",
      "Epoch 10/20\n",
      "1135/1135 [==============================] - 1s 548us/step - loss: 0.1726 - val_loss: 0.1853\n",
      "Epoch 11/20\n",
      "1135/1135 [==============================] - 1s 555us/step - loss: 0.1693 - val_loss: 0.1827\n",
      "Epoch 12/20\n",
      "1135/1135 [==============================] - 1s 560us/step - loss: 0.1662 - val_loss: 0.1793\n",
      "Epoch 13/20\n",
      "1135/1135 [==============================] - 1s 553us/step - loss: 0.1636 - val_loss: 0.1766\n",
      "Epoch 14/20\n",
      "1135/1135 [==============================] - 1s 481us/step - loss: 0.1610 - val_loss: 0.1742\n",
      "Epoch 15/20\n",
      "1135/1135 [==============================] - 1s 550us/step - loss: 0.1588 - val_loss: 0.1720\n",
      "Epoch 16/20\n",
      "1135/1135 [==============================] - 1s 552us/step - loss: 0.1567 - val_loss: 0.1703\n",
      "Epoch 17/20\n",
      "1135/1135 [==============================] - 1s 562us/step - loss: 0.1549 - val_loss: 0.1683\n",
      "Epoch 18/20\n",
      "1135/1135 [==============================] - 1s 474us/step - loss: 0.1531 - val_loss: 0.1665\n",
      "Epoch 19/20\n",
      "1135/1135 [==============================] - 1s 474us/step - loss: 0.1515 - val_loss: 0.1648\n",
      "Epoch 20/20\n",
      "1135/1135 [==============================] - 1s 471us/step - loss: 0.1499 - val_loss: 0.1634\n"
     ]
    }
   ],
   "source": [
    "nn1 = build_classifier(hidden=[])\n",
    "nn1.compile(optimizer='Adam', loss='binary_crossentropy')\n",
    "cb = [callbacks.EarlyStopping(patience=10, restore_best_weights=True)]\n",
    "history1 = nn1.fit(tr_s[dt_in], tr_lbl, validation_split=0.2,\n",
    "                 callbacks=cb,\n",
    "                 batch_size=32, epochs=20, verbose=1)"
   ]
  },
  {
   "cell_type": "markdown",
   "metadata": {
    "slideshow": {
     "slide_type": "subslide"
    }
   },
   "source": [
    "## Training\n",
    "\n",
    "**Here's the loss evolution over time and its final value**"
   ]
  },
  {
   "cell_type": "code",
   "execution_count": 7,
   "metadata": {
    "scrolled": false
   },
   "outputs": [
    {
     "name": "stdout",
     "output_type": "stream",
     "text": [
      "Final loss: 0.1499 (training), 0.1634 (validation)\n"
     ]
    },
    {
     "data": {
      "image/png": "[encoded data removed]",
      "text/plain": [
       "<Figure size 1008x360 with 1 Axes>"
      ]
     },
     "metadata": {
      "needs_background": "light"
     },
     "output_type": "display_data"
    }
   ],
   "source": [
    "cmapss.plot_training_history(history1, figsize=figsize)\n",
    "tr1, vl1 = history1.history[\"loss\"][-1], np.min(history1.history[\"val_loss\"])\n",
    "print(f'Final loss: {tr1:.4f} (training), {vl1:.4f} (validation)')"
   ]
  },
  {
   "cell_type": "markdown",
   "metadata": {
    "slideshow": {
     "slide_type": "subslide"
    }
   },
   "source": [
    "## Training\n",
    "\n",
    "**Let's try with a deeper model**"
   ]
  },
  {
   "cell_type": "code",
   "execution_count": 8,
   "metadata": {
    "scrolled": true
   },
   "outputs": [
    {
     "name": "stdout",
     "output_type": "stream",
     "text": [
      "Epoch 1/20\n",
      "1135/1135 [==============================] - 1s 733us/step - loss: 0.2107 - val_loss: 0.1711\n",
      "Epoch 2/20\n",
      "1135/1135 [==============================] - 1s 683us/step - loss: 0.1376 - val_loss: 0.1237\n",
      "Epoch 3/20\n",
      "1135/1135 [==============================] - 1s 691us/step - loss: 0.1050 - val_loss: 0.1022\n",
      "Epoch 4/20\n",
      "1135/1135 [==============================] - 1s 658us/step - loss: 0.0890 - val_loss: 0.0821\n",
      "Epoch 5/20\n",
      "1135/1135 [==============================] - 1s 654us/step - loss: 0.0813 - val_loss: 0.0791\n",
      "Epoch 6/20\n",
      "1135/1135 [==============================] - 1s 658us/step - loss: 0.0776 - val_loss: 0.0688\n",
      "Epoch 7/20\n",
      "1135/1135 [==============================] - 1s 656us/step - loss: 0.0728 - val_loss: 0.0687\n",
      "Epoch 8/20\n",
      "1135/1135 [==============================] - 1s 660us/step - loss: 0.0738 - val_loss: 0.0685\n",
      "Epoch 9/20\n",
      "1135/1135 [==============================] - 1s 739us/step - loss: 0.0731 - val_loss: 0.0752\n",
      "Epoch 10/20\n",
      "1135/1135 [==============================] - 1s 683us/step - loss: 0.0717 - val_loss: 0.0647\n",
      "Epoch 11/20\n",
      "1135/1135 [==============================] - 1s 713us/step - loss: 0.0713 - val_loss: 0.0672\n",
      "Epoch 12/20\n",
      "1135/1135 [==============================] - 1s 661us/step - loss: 0.0728 - val_loss: 0.0663\n",
      "Epoch 13/20\n",
      "1135/1135 [==============================] - 1s 670us/step - loss: 0.0702 - val_loss: 0.0686\n",
      "Epoch 14/20\n",
      "1135/1135 [==============================] - 1s 688us/step - loss: 0.0695 - val_loss: 0.0794\n",
      "Epoch 15/20\n",
      "1135/1135 [==============================] - 1s 695us/step - loss: 0.0689 - val_loss: 0.0677\n",
      "Epoch 16/20\n",
      "1135/1135 [==============================] - 1s 654us/step - loss: 0.0696 - val_loss: 0.0641\n",
      "Epoch 17/20\n",
      "1135/1135 [==============================] - 1s 662us/step - loss: 0.0673 - val_loss: 0.0628\n",
      "Epoch 18/20\n",
      "1135/1135 [==============================] - 1s 659us/step - loss: 0.0704 - val_loss: 0.0574\n",
      "Epoch 19/20\n",
      "1135/1135 [==============================] - 1s 664us/step - loss: 0.0675 - val_loss: 0.0638\n",
      "Epoch 20/20\n",
      "1135/1135 [==============================] - 1s 659us/step - loss: 0.0684 - val_loss: 0.0573\n"
     ]
    }
   ],
   "source": [
    "nn2 = build_classifier(hidden=[32, 32])\n",
    "nn2.compile(optimizer='Adam', loss='binary_crossentropy')\n",
    "history2 = nn2.fit(tr_s[dt_in], tr_lbl, validation_split=0.2,\n",
    "                 callbacks=cb,\n",
    "                 batch_size=32, epochs=20, verbose=1)"
   ]
  },
  {
   "cell_type": "markdown",
   "metadata": {
    "slideshow": {
     "slide_type": "subslide"
    }
   },
   "source": [
    "## Training\n",
    "\n",
    "**Here's the loss for the deeper model**"
   ]
  },
  {
   "cell_type": "code",
   "execution_count": 9,
   "metadata": {
    "scrolled": true
   },
   "outputs": [
    {
     "name": "stdout",
     "output_type": "stream",
     "text": [
      "Final loss: 0.0684 (training), 0.0573 (validation)\n"
     ]
    },
    {
     "data": {
      "image/png": "[encoded data removed]",
      "text/plain": [
       "<Figure size 1008x360 with 1 Axes>"
      ]
     },
     "metadata": {
      "needs_background": "light"
     },
     "output_type": "display_data"
    }
   ],
   "source": [
    "cmapss.plot_training_history(history2, figsize=figsize)\n",
    "tr2, vl2 = history2.history[\"loss\"][-1], np.min(history2.history[\"val_loss\"])\n",
    "print(f'Final loss: {tr2:.4f} (training), {vl2:.4f} (validation)')"
   ]
  },
  {
   "cell_type": "markdown",
   "metadata": {},
   "source": [
    "* Depth pays off big in this case"
   ]
  },
  {
   "cell_type": "markdown",
   "metadata": {
    "slideshow": {
     "slide_type": "subslide"
    }
   },
   "source": [
    "## Predictions\n",
    "\n",
    "**Our predictions can be interpreted as probabilities (of advancing)**"
   ]
  },
  {
   "cell_type": "code",
   "execution_count": 10,
   "metadata": {
    "scrolled": true
   },
   "outputs": [
    {
     "data": {
      "image/png": "[encoded data removed]",
      "text/plain": [
       "<Figure size 1008x360 with 2 Axes>"
      ]
     },
     "metadata": {
      "needs_background": "light"
     },
     "output_type": "display_data"
    }
   ],
   "source": [
    "tr_pred2_prob = nn2.predict(tr_s[dt_in]).ravel()\n",
    "stop = 1095\n",
    "cmapss.plot_rul(tr_pred2_prob[:stop], tr['rul'][:stop], same_scale=False, figsize=figsize)"
   ]
  },
  {
   "cell_type": "markdown",
   "metadata": {},
   "source": [
    "* The probability falls when closer to failures"
   ]
  },
  {
   "cell_type": "markdown",
   "metadata": {
    "slideshow": {
     "slide_type": "subslide"
    }
   },
   "source": [
    "## Predictions\n",
    "\n",
    "**In practice, we need to convert the predictions to integers via rounding**\n",
    "\n",
    "...Unless we want to deal with one more threshold (in addition to $\\theta$)"
   ]
  },
  {
   "cell_type": "code",
   "execution_count": 11,
   "metadata": {},
   "outputs": [
    {
     "data": {
      "image/png": "[encoded data removed]",
      "text/plain": [
       "<Figure size 1008x360 with 2 Axes>"
      ]
     },
     "metadata": {
      "needs_background": "light"
     },
     "output_type": "display_data"
    }
   ],
   "source": [
    "tr_pred2 = np.round(nn2.predict(tr_s[dt_in]).ravel())\n",
    "cmapss.plot_rul(tr_pred2[:stop], tr['rul'][:stop], same_scale=False, figsize=figsize)"
   ]
  },
  {
   "cell_type": "markdown",
   "metadata": {},
   "source": [
    "* Still, the behavior seems to be reasonable"
   ]
  },
  {
   "cell_type": "markdown",
   "metadata": {
    "slideshow": {
     "slide_type": "subslide"
    }
   },
   "source": [
    "## Predictions\n",
    "\n",
    "**Let's see the behavior on the test set**"
   ]
  },
  {
   "cell_type": "code",
   "execution_count": 12,
   "metadata": {},
   "outputs": [
    {
     "data": {
      "image/png": "[encoded data removed]",
      "text/plain": [
       "<Figure size 1008x360 with 2 Axes>"
      ]
     },
     "metadata": {
      "needs_background": "light"
     },
     "output_type": "display_data"
    }
   ],
   "source": [
    "ts_pred2 = np.round(nn2.predict(ts_s[dt_in]).ravel())\n",
    "cmapss.plot_rul(ts_pred2[:stop], ts['rul'][:stop], same_scale=False, figsize=figsize)"
   ]
  },
  {
   "cell_type": "markdown",
   "metadata": {},
   "source": [
    "* Apparently a decent degree of generalization"
   ]
  },
  {
   "cell_type": "markdown",
   "metadata": {
    "slideshow": {
     "slide_type": "subslide"
    }
   },
   "source": [
    "## Evaluation\n",
    "\n",
    "**We can evaluate the classifier _directly_**\n",
    "\n",
    "...Because it defines the whole policy, with no need for additional calibration!\n",
    "\n",
    "* On one hand this makes this stage of the process _simpler_\n",
    "* ...On the other, this is (apparently) a missed opportunity"
   ]
  },
  {
   "cell_type": "code",
   "execution_count": 13,
   "metadata": {},
   "outputs": [
    {
     "name": "stdout",
     "output_type": "stream",
     "text": [
      "Cost: -17221 (training), -6501 (test)\n",
      "Avg. fails: 0.0 (training), 0.0 (test)\n",
      "Avg. slack: 23.73 (training), 20.84 (test)\n"
     ]
    }
   ],
   "source": [
    "tr_c2, tr_f2, tr_s2 = cmodel.cost(tr['machine'].values, tr_pred2, 0.5, return_margin=True)\n",
    "ts_c2, ts_f2, ts_s2 = cmodel.cost(ts['machine'].values, ts_pred2, 0.5, return_margin=True)\n",
    "print(f'Cost: {tr_c2} (training), {ts_c2} (test)')\n",
    "print(f'Avg. fails: {tr_f2/len(tr_mcn)} (training), {ts_f2/len(ts_mcn)} (test)')\n",
    "print(f'Avg. slack: {tr_s2/len(tr_mcn):.2f} (training), {ts_s2/len(ts_mcn):.2f} (test)')"
   ]
  },
  {
   "cell_type": "markdown",
   "metadata": {},
   "source": [
    "* Still pretty good results, but worse than the best regression approach\n",
    "* We will investigate _two potential reasons_"
   ]
  },
  {
   "cell_type": "markdown",
   "metadata": {
    "slideshow": {
     "slide_type": "slide"
    }
   },
   "source": [
    "# Balancing a Dataset"
   ]
  },
  {
   "cell_type": "markdown",
   "metadata": {
    "slideshow": {
     "slide_type": "subslide"
    }
   },
   "source": [
    "## Balancing a Dataset\n",
    "\n",
    "**By construction, our dataset is likely to be strongly unbalanced**"
   ]
  },
  {
   "cell_type": "code",
   "execution_count": 14,
   "metadata": {},
   "outputs": [
    {
     "data": {
      "text/plain": [
       "True     0.938526\n",
       "False    0.061474\n",
       "Name: rul, dtype: float64"
      ]
     },
     "execution_count": 14,
     "metadata": {},
     "output_type": "execute_result"
    }
   ],
   "source": [
    "counts = tr_lbl.value_counts(normalize=True)\n",
    "counts"
   ]
  },
  {
   "cell_type": "markdown",
   "metadata": {},
   "source": [
    "* In these kind of situation, SGD optimization may have convergence issues\n",
    "* The gradient will push strongly in the direction of the overrepresented class\n",
    "\n",
    "**A common practice to address this issue is using _class weights_**\n",
    "\n",
    "* Typically, we use weights inversely proportional to the counts\n",
    "* ...So as to counter-balance the effect"
   ]
  },
  {
   "cell_type": "code",
   "execution_count": 15,
   "metadata": {},
   "outputs": [],
   "source": [
    "class_weight = {0: 1/counts[0], 1: 1/counts[1]}"
   ]
  },
  {
   "cell_type": "markdown",
   "metadata": {
    "slideshow": {
     "slide_type": "subslide"
    }
   },
   "source": [
    "## Class-Weights, Cross-Entropy, and Likelihood\n",
    "\n",
    "**While are class frequencies typically used as weights?**\n",
    "\n",
    "Let's say our classifier is trained via for _weighted cross-entropy_:\n",
    "$$\n",
    "\\min_{y} \\left\\{ - w_1 \\sum_{\\hat{y}_i = 1} \\log y_i -  w_0 \\sum_{\\hat{y}_i = 0} \\log (1 - y_i) \\right\\}\n",
    "$$\n",
    "* Where $\\hat{y}$ is the label vector and $y$ the vector of classifier outputs\n",
    "* $w_0$ and $w_1$ are the weights for class 0 and 1\n",
    "\n",
    "**If we apply an exponential and we switch optimization direction we get:**\n",
    "$$\n",
    "\\max_{y} \\left\\{ e^{w_1 \\sum_{\\hat{y}_i = 1} \\log y_i} e^{w_0 \\sum_{\\hat{y}_i = 0} \\log (1 - y_i)} \\right\\}\n",
    "$$\n",
    "* The _optimal points_ are the same as before"
   ]
  },
  {
   "cell_type": "markdown",
   "metadata": {
    "slideshow": {
     "slide_type": "subslide"
    }
   },
   "source": [
    "## Class-Weights, Cross-Entropy, and Likelihood\n",
    "\n",
    "**We with algebraic manipulations we finally obtain:**\n",
    "\n",
    "$$\n",
    "\\max_{y} \\left\\{ \\prod_{\\hat{y}_i = 1} y_i^{w_1} \\prod_{\\hat{y}_i = 0} (1-y_i)^{w_0} \\right\\}\n",
    "$$\n",
    "\n",
    "**When training, we are _maximizing a likelihood expression_!**\n",
    "\n",
    "* To see that, just interpret $y_i$ as the (estimated) probability of the class being 1\n",
    "\n",
    "**The weights act by _multiplying the class probabilities_**\n",
    "\n",
    "...Which is equivalent to adjusting their frequencies!\n",
    "\n",
    "* E.g. from a mathematical point of view, setting $w_0$ to 2...\n",
    "* ...Is equivalent to making a copy of each example having label 0\n",
    "\n",
    "Hence, inverse class frequencies are often used as weights for dataset rebalancing"
   ]
  },
  {
   "cell_type": "markdown",
   "metadata": {
    "slideshow": {
     "slide_type": "subslide"
    }
   },
   "source": [
    "## Training with Non-uniform Class Weights\n",
    "\n",
    "**Let's repeat the training process**"
   ]
  },
  {
   "cell_type": "code",
   "execution_count": 16,
   "metadata": {
    "scrolled": true
   },
   "outputs": [
    {
     "name": "stdout",
     "output_type": "stream",
     "text": [
      "Epoch 1/20\n",
      "1135/1135 [==============================] - 1s 773us/step - loss: 0.9785 - val_loss: 0.4846\n",
      "Epoch 2/20\n",
      "1135/1135 [==============================] - 1s 699us/step - loss: 0.5663 - val_loss: 0.2182\n",
      "Epoch 3/20\n",
      "1135/1135 [==============================] - 1s 698us/step - loss: 0.4288 - val_loss: 0.2280\n",
      "Epoch 4/20\n",
      "1135/1135 [==============================] - 1s 698us/step - loss: 0.3668 - val_loss: 0.1700\n",
      "Epoch 5/20\n",
      "1135/1135 [==============================] - 1s 695us/step - loss: 0.3452 - val_loss: 0.0957\n",
      "Epoch 6/20\n",
      "1135/1135 [==============================] - 1s 704us/step - loss: 0.3176 - val_loss: 0.1723\n",
      "Epoch 7/20\n",
      "1135/1135 [==============================] - 1s 704us/step - loss: 0.3070 - val_loss: 0.1606\n",
      "Epoch 8/20\n",
      "1135/1135 [==============================] - 1s 709us/step - loss: 0.2940 - val_loss: 0.3057\n",
      "Epoch 9/20\n",
      "1135/1135 [==============================] - 1s 718us/step - loss: 0.2820 - val_loss: 0.1319\n",
      "Epoch 10/20\n",
      "1135/1135 [==============================] - 1s 703us/step - loss: 0.2792 - val_loss: 0.1631\n",
      "Epoch 11/20\n",
      "1135/1135 [==============================] - 1s 710us/step - loss: 0.2681 - val_loss: 0.1493\n",
      "Epoch 12/20\n",
      "1135/1135 [==============================] - 1s 719us/step - loss: 0.2672 - val_loss: 0.1520\n",
      "Epoch 13/20\n",
      "1135/1135 [==============================] - 1s 701us/step - loss: 0.2658 - val_loss: 0.1232\n",
      "Epoch 14/20\n",
      "1135/1135 [==============================] - 1s 708us/step - loss: 0.2591 - val_loss: 0.2287\n",
      "Epoch 15/20\n",
      "1135/1135 [==============================] - 1s 729us/step - loss: 0.2687 - val_loss: 0.1797\n"
     ]
    }
   ],
   "source": [
    "nn3 = build_classifier(hidden=[32, 32])\n",
    "nn3.compile(optimizer='Adam', loss='binary_crossentropy')\n",
    "history3 = nn3.fit(tr_s[dt_in], tr_lbl, validation_split=0.2,\n",
    "                 callbacks=cb, class_weight=class_weight,\n",
    "                 batch_size=32, epochs=20, verbose=1)"
   ]
  },
  {
   "cell_type": "markdown",
   "metadata": {
    "slideshow": {
     "slide_type": "subslide"
    }
   },
   "source": [
    "## Predictions\n",
    "\n",
    "**Let's check how the the raw predictions (probabilities) have changed**"
   ]
  },
  {
   "cell_type": "code",
   "execution_count": 17,
   "metadata": {
    "scrolled": true
   },
   "outputs": [
    {
     "data": {
      "image/png": "[encoded data removed]",
      "text/plain": [
       "<Figure size 1008x360 with 2 Axes>"
      ]
     },
     "metadata": {
      "needs_background": "light"
     },
     "output_type": "display_data"
    }
   ],
   "source": [
    "tr_pred3_prob = nn3.predict(tr_s[dt_in]).ravel()\n",
    "cmapss.plot_rul(tr_pred3_prob[:stop], tr['rul'][:stop], same_scale=False, figsize=figsize)"
   ]
  },
  {
   "cell_type": "markdown",
   "metadata": {
    "slideshow": {
     "slide_type": "fragment"
    }
   },
   "source": [
    "* They have actually become _worse_: there are mistakes in the initial section"
   ]
  },
  {
   "cell_type": "markdown",
   "metadata": {
    "slideshow": {
     "slide_type": "subslide"
    }
   },
   "source": [
    "## Evaluation\n",
    "\n",
    "**Let's check the model performance in terms of cost**"
   ]
  },
  {
   "cell_type": "code",
   "execution_count": 19,
   "metadata": {},
   "outputs": [
    {
     "name": "stdout",
     "output_type": "stream",
     "text": [
      "Cost: -15327 (training), -5871 (test)\n",
      "Avg. fails: 0.0 (training), 0.0 (test)\n",
      "Avg. slack: 34.12 (training), 31.44 (test)\n"
     ]
    }
   ],
   "source": [
    "tr_pred3 = np.round(nn3.predict(tr_s[dt_in]).ravel())\n",
    "ts_pred3 = np.round(nn3.predict(ts_s[dt_in]).ravel())\n",
    "tr_c3, tr_f3, tr_s3 = cmodel.cost(tr['machine'].values, tr_pred3, 0.5, return_margin=True)\n",
    "ts_c3, ts_f3, ts_s3 = cmodel.cost(ts['machine'].values, ts_pred3, 0.5, return_margin=True)\n",
    "print(f'Cost: {tr_c3} (training), {ts_c3} (test)')\n",
    "print(f'Avg. fails: {tr_f3/len(tr_mcn)} (training), {ts_f3/len(ts_mcn)} (test)')\n",
    "print(f'Avg. slack: {tr_s3/len(tr_mcn):.2f} (training), {ts_s3/len(ts_mcn):.2f} (test)')"
   ]
  },
  {
   "cell_type": "markdown",
   "metadata": {},
   "source": [
    "As expected, the results are worse\n",
    "\n",
    "* The model now treats the two classes more fairly\n",
    "* ...But this increases the chance of an (undesirable) early stop\n",
    "\n",
    "**So, how shall we choose the balance?**"
   ]
  },
  {
   "cell_type": "markdown",
   "metadata": {
    "slideshow": {
     "slide_type": "slide"
    }
   },
   "source": [
    "# Bayesian (Surrogate-Based) Optimization"
   ]
  },
  {
   "cell_type": "markdown",
   "metadata": {
    "slideshow": {
     "slide_type": "subslide"
    }
   },
   "source": [
    "## Taking a Step Back\n",
    "\n",
    "**In the _regression_ case, we are formally solving:**\n",
    "\n",
    "$$\\begin{align}\n",
    "&\\min_{\\theta} \\sum_{k \\in K} \\mathit{cost}(f(x_k\\, \\lambda^*), \\theta) \\\\\n",
    "\\text{ with: } \\lambda^* &= \\text{argmin}_\\lambda L(f(x_k, \\lambda), y_k)\n",
    "\\end{align}$$\n",
    "\n",
    "* Where $\\lambda^*$ is the optimal parameter vector (i.e. the network weights)\n",
    "* ...And $L$ is the loss function (i.e. the MSE), and $\\mathit{cost}$ is our cost model\n",
    "* $\\theta$ is chosen so as to minimize the cost\n",
    "\n",
    "**This is a _bilevel optimization_ problem**\n",
    "\n",
    "* However, since $\\theta$ does appears neither in $L$ nor in $f$\n",
    "* ...It can be _decomposed into two sequential subproblems_"
   ]
  },
  {
   "cell_type": "markdown",
   "metadata": {
    "slideshow": {
     "slide_type": "subslide"
    }
   },
   "source": [
    "## Taking a Step Back\n",
    "\n",
    "**In the _classification_ case, we are formally solving:**\n",
    "\n",
    "$$\\begin{align}\n",
    "&\\text{min}_{\\theta} \\sum_{k \\in K} \\mathit{cost}(f(x_k\\, \\lambda^*), 0.5) \\\\\n",
    "\\text{ with: } \\lambda^* &= \\text{argmin}_\\lambda L(f(x_k, \\lambda), {\\bf 1}_{y_k \\geq \\theta})\n",
    "\\end{align}$$\n",
    "\n",
    "* In this case, we use a dummy threshold in the cost model (i.e. 0.5)\n",
    "* ...And ${\\bf 1}_{y_k \\geq \\theta}$ is the indicator function of $y_k \\geq \\theta$ (i.e. our class labels)\n",
    "\n",
    "**Unlike the previous one, this problem _cannot be decomposed_**\n",
    "\n",
    "...Because $\\theta$ appears in the loss function!\n",
    "\n",
    "* This means we need to _optimize $\\theta$ and $\\lambda$ at the same time_\n",
    "* This is obviously complicated, but it's also an _opportunity_\n",
    "* ...Since we can _adapt the training problem_ based on the threshold"
   ]
  },
  {
   "cell_type": "markdown",
   "metadata": {
    "slideshow": {
     "slide_type": "subslide"
    }
   },
   "source": [
    "## Taking a Step Back\n",
    "\n",
    "**We can try to tackle the optimization process in a hierarchical fashion**\n",
    "\n",
    "1. We search over the possible values of $\\theta$\n",
    "2. For the given $\\theta$ value, we compute ${\\bf 1}_{y_k \\geq \\theta}$ (i.e. the class labels)\n",
    "3. For the given $\\theta$ and ${\\bf 1}_{y_k \\geq \\theta}$, we compute $\\lambda^*$ (i.e. we train the model)\n",
    "4. For the given $\\theta$, ${\\bf 1}_{y_k \\geq \\theta}$, and $\\lambda^*$, we compute the cost\n",
    "\n",
    "At the end of the process, we choose the configuration with the best cost\n",
    "\n",
    "**The method is reasonable, but slow**\n",
    "\n",
    "* We could reduce the runtime by warm-starting each training attempt\n",
    "* ...And by searching over $\\theta$ in a smart way"
   ]
  },
  {
   "cell_type": "markdown",
   "metadata": {
    "slideshow": {
     "slide_type": "subslide"
    }
   },
   "source": [
    "## Bayesian Optimization\n",
    "\n",
    "**We will use an approach known as _Bayesian optimization_**\n",
    "\n",
    "* It's actually a family of _surrogate-based optimization_ methods\n",
    "* They are all designed to optimize _blackbox functions_\n",
    "* I.e. functions with an unknown structure, that can only be evaluated\n",
    "\n",
    "**Formally, they address problems in the form:**\n",
    "\n",
    "$$\n",
    "\\min_{x \\in B} f(x)\n",
    "$$\n",
    "\n",
    "* Where $B$ is a box, i.e. a specification of bounds for each component of $x$\n",
    "\n",
    "In our case:\n",
    "\n",
    "* The decision variable $x$ would be $\\theta$\n",
    "* The function to be optimized would be the cost"
   ]
  },
  {
   "cell_type": "markdown",
   "metadata": {
    "slideshow": {
     "slide_type": "subslide"
    }
   },
   "source": [
    "## Bayesian (or Surrogate-Based) Optimization\n",
    "\n",
    "**Internally, methods in this family store:**\n",
    "\n",
    "* A collection $\\hat{x}$ of evaluated points\n",
    "* A surrogate-model $\\tilde{f}$ for $f$\n",
    "\n",
    "**The basic loop of the algorithm is then as follow:**\n",
    "\n",
    "Let $x^*$ be the current candidate optimum\n",
    "\n",
    "* Based on the current $\\tilde{f}$:\n",
    "  - Determine whether there exists $x^\\prime \\in B$ that may improve over $x^*$\n",
    "  - If there is no such point, return $x^*$\n",
    "  - Otherwise\n",
    "    + Evaluate $f(x^\\prime)$ and possibly replace $x^*$\n",
    "    + Add $x^\\prime$ to $\\hat{x}$, adjust $\\tilde{f}$, and repeat"
   ]
  },
  {
   "cell_type": "markdown",
   "metadata": {
    "slideshow": {
     "slide_type": "subslide"
    }
   },
   "source": [
    "## Bayesian (or Surrogate-Based) Optimization\n",
    "\n",
    "**A few considerations:**\n",
    "\n",
    "In practice, the algorithm needs to balance _exploration_ and _exploitation_\n",
    "\n",
    "* We need to explore regions where we cannot make confident predictions\n",
    "* ...But we need also to focus on regions with promising cost values\n",
    "\n",
    "**Different Bayesian optimization algorithms:**\n",
    "\n",
    "* Make use of different surrogate models\n",
    "* Rely on different criteria for choosing $x^\\prime$\n",
    "* Strike different trade-offs in terms of number of (expensive) evaluations of $f$\n",
    "* ...And the quality of the obtained solutions\n",
    "\n",
    "**For more information, see (e.g.) [this tutorial](https://machinelearningmastery.com/what-is-bayesian-optimization/)**"
   ]
  },
  {
   "cell_type": "markdown",
   "metadata": {
    "slideshow": {
     "slide_type": "subslide"
    }
   },
   "source": [
    "## Our Chosen Optimizer\n",
    "\n",
    "**We will use the `bayesian-optimization` python module**\n",
    "\n",
    "* The solver is designed for maximization\n",
    "* Decent documentation can be found on [its github page](https://github.com/fmfn/BayesianOptimization)\n",
    "* It's not as fast as (e.g.) [RBFOpt](https://github.com/coin-or/rbfopt), but easier to install and configure\n",
    "\n",
    "**The solver relies on _Gaussian Processes_ as a surrogate model:**\n",
    "\n",
    "GPs are guaranteed to (approximately) touch every point in the training set\n",
    "\n",
    "* ...And behave reasonably well even with a simple RBF kernel\n",
    "* ...Which is in fact the one used in this case\n",
    "\n",
    "**GPs provide confidence intervals**\n",
    "\n",
    "...Which the algorithm uses to balance exploration and exploitation\n",
    "\n",
    "* Regions with wide C.I. may be worth exploring\n",
    "* ...And regions with high (upper) C.I. may contain high-quality solutions"
   ]
  },
  {
   "cell_type": "markdown",
   "metadata": {
    "slideshow": {
     "slide_type": "subslide"
    }
   },
   "source": [
    "## Method Setup\n",
    "\n",
    "**First, we need to define the function to be maximized**\n",
    "\n",
    "This will be the (negative) cost, after retraining the classifier:"
   ]
  },
  {
   "cell_type": "code",
   "execution_count": 20,
   "metadata": {},
   "outputs": [],
   "source": [
    "nn4 = build_classifier(hidden=[32, 32])\n",
    "nn4.compile(optimizer='Adam', loss='binary_crossentropy')\n",
    "nn4.set_weights(nn2.get_weights())\n",
    "\n",
    "bo_weights = {}\n",
    "def classification_obj(class_thr, class0_weight):\n",
    "    # Define new labels\n",
    "    tr_lbl = (tr['rul'] >= class_thr)\n",
    "    # Fit\n",
    "    nn4.fit(tr_s[dt_in], tr_lbl, validation_split=0.2,\n",
    "                     callbacks=cb, class_weight={1:1, 0:class0_weight},\n",
    "                     batch_size=32, epochs=5, verbose=0)\n",
    "    # Cost computation\n",
    "    tr_pred = np.round(nn4.predict(tr_s[dt_in]).ravel())\n",
    "    tr_cost = cmodel.cost(tr['machine'].values, tr_pred, 0.5)\n",
    "    # Store the model weights\n",
    "    bo_weights[class_thr, class0_weight] = nn4.get_weights()\n",
    "    return -tr_cost"
   ]
  },
  {
   "cell_type": "markdown",
   "metadata": {
    "slideshow": {
     "slide_type": "subslide"
    }
   },
   "source": [
    "## Method Setup\n",
    "\n",
    "**We rely on warm-starting to reduce the training time**\n",
    "\n",
    "We start from (the weights of) our deep MLP\n",
    "\n",
    "```python\n",
    "nn4 = build_classifier(hidden=[32, 32])\n",
    "nn4.compile(optimizer='Adam', loss='binary_crossentropy')\n",
    "nn4.set_weights(nn2.get_weights())\n",
    "```\n",
    "\n",
    "...So that we can train for just a few epochs\n",
    "\n",
    "```python\n",
    "nn4.fit(tr_s[dt_in], tr_lbl, validation_split=0.2,\n",
    "                 callbacks=cb, class_weight={1:1, 0:class0_weight},\n",
    "                 batch_size=32, epochs=5, verbose=0)\n",
    "```\n",
    "\n",
    "* Since the training process is stochastic...\n",
    "* The optimization result will be stochastic as well"
   ]
  },
  {
   "cell_type": "markdown",
   "metadata": {
    "slideshow": {
     "slide_type": "subslide"
    }
   },
   "source": [
    "## Method Setup\n",
    "\n",
    "**We will optimize _both $\\theta$ and the class weights_**\n",
    "\n",
    "```python\n",
    "def classification_obj(class_thr, class0_weight):\n",
    "    ...\n",
    "    nn4.fit(tr_s[dt_in], tr_lbl, validation_split=0.2,\n",
    "                     callbacks=cb, class_weight={1:1, 0:class0_weight},\n",
    "                     batch_size=32, epochs=5, verbose=0)\n",
    "    ...\n",
    "```\n",
    "\n",
    "* We can afford it, since we have a much better optimizer than grid search\n",
    "\n",
    "**We need to store the weights of each model**\n",
    "\n",
    "...So that we can recover the optimal configuration:\n",
    "\n",
    "```python\n",
    "bo_weights[class_thr, class0_weight] = nn4.get_weights()\n",
    "```"
   ]
  },
  {
   "cell_type": "markdown",
   "metadata": {
    "slideshow": {
     "slide_type": "subslide"
    }
   },
   "source": [
    "## Method Setup\n",
    "\n",
    "**We now define the bounding box**"
   ]
  },
  {
   "cell_type": "code",
   "execution_count": 21,
   "metadata": {},
   "outputs": [],
   "source": [
    "box = {'class_thr': (1, 15), 'class0_weight': (1, 10)}"
   ]
  },
  {
   "cell_type": "markdown",
   "metadata": {},
   "source": [
    "* We will consider stopping from 1 to 15 steps before a failure\n",
    "* We will consider weights for class 0 from 1 to 10\n",
    "\n",
    "**Then we can configure the optimizer:**"
   ]
  },
  {
   "cell_type": "code",
   "execution_count": 22,
   "metadata": {},
   "outputs": [],
   "source": [
    "from bayes_opt import BayesianOptimization\n",
    "optimizer = BayesianOptimization(f=classification_obj,\n",
    "                                 pbounds=box, random_state=42, verbose=2)"
   ]
  },
  {
   "cell_type": "markdown",
   "metadata": {},
   "source": [
    "* We specify the function to be maximized, the box\n",
    "* ...But also a random seed and the logging level"
   ]
  },
  {
   "cell_type": "markdown",
   "metadata": {
    "slideshow": {
     "slide_type": "subslide"
    }
   },
   "source": [
    "## Optimization\n",
    "\n",
    "**Finally, we run the optimization process**"
   ]
  },
  {
   "cell_type": "code",
   "execution_count": 23,
   "metadata": {},
   "outputs": [
    {
     "name": "stdout",
     "output_type": "stream",
     "text": [
      "|   iter    |  target   | class0... | class_thr |\n",
      "-------------------------------------------------\n",
      "| \u001b[0m 1       \u001b[0m | \u001b[0m 1.59e+04\u001b[0m | \u001b[0m 4.371   \u001b[0m | \u001b[0m 14.31   \u001b[0m |\n",
      "| \u001b[0m 2       \u001b[0m | \u001b[0m 1.569e+0\u001b[0m | \u001b[0m 7.588   \u001b[0m | \u001b[0m 9.381   \u001b[0m |\n",
      "| \u001b[95m 3       \u001b[0m | \u001b[95m 1.879e+0\u001b[0m | \u001b[95m 2.404   \u001b[0m | \u001b[95m 3.184   \u001b[0m |\n",
      "| \u001b[0m 4       \u001b[0m | \u001b[0m 1.742e+0\u001b[0m | \u001b[0m 4.452   \u001b[0m | \u001b[0m 1.02    \u001b[0m |\n",
      "| \u001b[95m 5       \u001b[0m | \u001b[95m 1.899e+0\u001b[0m | \u001b[95m 1.0     \u001b[0m | \u001b[95m 5.556   \u001b[0m |\n",
      "| \u001b[0m 6       \u001b[0m | \u001b[0m-2.481e+0\u001b[0m | \u001b[0m 1.0     \u001b[0m | \u001b[0m 1.0     \u001b[0m |\n",
      "| \u001b[0m 7       \u001b[0m | \u001b[0m 1.881e+0\u001b[0m | \u001b[0m 1.051   \u001b[0m | \u001b[0m 7.493   \u001b[0m |\n",
      "| \u001b[0m 8       \u001b[0m | \u001b[0m 1.871e+0\u001b[0m | \u001b[0m 1.678   \u001b[0m | \u001b[0m 6.5     \u001b[0m |\n",
      "| \u001b[0m 9       \u001b[0m | \u001b[0m 1.779e+0\u001b[0m | \u001b[0m 4.317   \u001b[0m | \u001b[0m 4.282   \u001b[0m |\n",
      "| \u001b[0m 10      \u001b[0m | \u001b[0m 1.82e+04\u001b[0m | \u001b[0m 7.043   \u001b[0m | \u001b[0m 2.12    \u001b[0m |\n",
      "| \u001b[0m 11      \u001b[0m | \u001b[0m 1.717e+0\u001b[0m | \u001b[0m 3.525   \u001b[0m | \u001b[0m 9.549   \u001b[0m |\n",
      "| \u001b[0m 12      \u001b[0m | \u001b[0m 1.71e+04\u001b[0m | \u001b[0m 1.0     \u001b[0m | \u001b[0m 11.22   \u001b[0m |\n",
      "| \u001b[0m 13      \u001b[0m | \u001b[0m 1.654e+0\u001b[0m | \u001b[0m 7.927   \u001b[0m | \u001b[0m 5.157   \u001b[0m |\n",
      "=================================================\n"
     ]
    }
   ],
   "source": [
    "optimizer.maximize(n_iter=10, init_points=3)"
   ]
  },
  {
   "cell_type": "markdown",
   "metadata": {
    "slideshow": {
     "slide_type": "subslide"
    }
   },
   "source": [
    "## Retrieving the Results\n",
    "\n",
    "**We can access the best configuration via**"
   ]
  },
  {
   "cell_type": "code",
   "execution_count": 24,
   "metadata": {},
   "outputs": [
    {
     "data": {
      "text/plain": [
       "{'target': 18994.0,\n",
       " 'params': {'class0_weight': 1.0000498300816418,\n",
       "  'class_thr': 5.5561938101894865}}"
      ]
     },
     "execution_count": 24,
     "metadata": {},
     "output_type": "execute_result"
    }
   ],
   "source": [
    "optimizer.max"
   ]
  },
  {
   "cell_type": "markdown",
   "metadata": {},
   "source": [
    "Once we know the configuration, we can reconstruct the corresponding model: "
   ]
  },
  {
   "cell_type": "code",
   "execution_count": 25,
   "metadata": {},
   "outputs": [],
   "source": [
    "class_thr4 = optimizer.max['params']['class_thr']\n",
    "class0_weight4 = optimizer.max['params']['class0_weight']\n",
    "nn4.set_weights(bo_weights[class_thr4, class0_weight4])"
   ]
  },
  {
   "cell_type": "markdown",
   "metadata": {},
   "source": [
    "* We do this by accessing the weights in the `bo_weights` dictionary"
   ]
  },
  {
   "cell_type": "markdown",
   "metadata": {
    "slideshow": {
     "slide_type": "subslide"
    }
   },
   "source": [
    "## Evaluation\n",
    "\n",
    "**Finally, we can obtain the predictions**"
   ]
  },
  {
   "cell_type": "code",
   "execution_count": 26,
   "metadata": {},
   "outputs": [],
   "source": [
    "tr_pred4 = np.round(nn4.predict(tr_s[dt_in]).ravel())\n",
    "ts_pred4 = np.round(nn4.predict(ts_s[dt_in]).ravel())"
   ]
  },
  {
   "cell_type": "markdown",
   "metadata": {},
   "source": [
    "...And we can evaluate the optimized model:"
   ]
  },
  {
   "cell_type": "code",
   "execution_count": 27,
   "metadata": {},
   "outputs": [
    {
     "name": "stdout",
     "output_type": "stream",
     "text": [
      "Cost: -18994 (training), -7127 (test)\n",
      "Avg. fails: 0.0 (training), 0.0 (test)\n",
      "Avg. slack: 13.95 (training), 10.68 (test)\n"
     ]
    }
   ],
   "source": [
    "tr_c4, tr_f4, tr_s4 = cmodel.cost(tr['machine'].values, tr_pred4, 0.5, return_margin=True)\n",
    "ts_c4, ts_f4, ts_s4 = cmodel.cost(ts['machine'].values, ts_pred4, 0.5, return_margin=True)\n",
    "print(f'Cost: {tr_c4} (training), {ts_c4} (test)')\n",
    "print(f'Avg. fails: {tr_f4/len(tr_mcn)} (training), {ts_f4/len(ts_mcn)} (test)')\n",
    "print(f'Avg. slack: {tr_s4/len(tr_mcn):.2f} (training), {ts_s4/len(ts_mcn):.2f} (test)')"
   ]
  },
  {
   "cell_type": "markdown",
   "metadata": {},
   "source": [
    "* We are now on-par with the best regression based approaches!\n",
    "* Actual results may be slightly better or worse due to randomness"
   ]
  },
  {
   "cell_type": "markdown",
   "metadata": {
    "slideshow": {
     "slide_type": "subslide"
    }
   },
   "source": [
    "## Considerations\n",
    "\n",
    "**Why choosing a classification-based approach?**\n",
    "\n",
    "* In some cases, classification can be _easier_ than regression\n",
    "* The threshold affects training, which is computationally heavier\n",
    "* ...But it means that training can _adapt to the threshold_\n",
    "\n",
    "**We we tackle the prediction and cost optimization stages in isolation:**\n",
    "\n",
    "* The two stages are \"glued\" by the ML loss (MSE or cross-entropy)\n",
    "* ....But the loss does not penalize mistakes based on their (economic) cost!\n",
    "* Ideally, an end-to-end cost optimization approach should work better\n",
    "  \n",
    "**Bayesian/surrogate-based optimization can have many uses**\n",
    "\n",
    "* Hyper-parameter optimization\n",
    "* Fitting simulation models\n",
    "* Optimizing equipment setpoints (e.g. Air Conditioning), based on simulation\n",
    "* ..."
   ]
  }
 ],
 "metadata": {
  "celltoolbar": "Slideshow",
  "kernelspec": {
   "display_name": "Python 3",
   "language": "python",
   "name": "python3"
  },
  "language_info": {
   "codemirror_mode": {
    "name": "ipython",
    "version": 3
   },
   "file_extension": ".py",
   "mimetype": "text/x-python",
   "name": "python",
   "nbconvert_exporter": "python",
   "pygments_lexer": "ipython3",
   "version": "3.6.9"
  },
  "rise": {
   "center": false,
   "transition": "fade"
  },
  "widgets": {
   "application/vnd.jupyter.widget-state+json": {
    "state": {
     "06290cb1a9304d3c9dde54251c7c7d9a": {
      "model_module": "@jupyter-widgets/base",
      "model_module_version": "1.2.0",
      "model_name": "LayoutModel",
      "state": {}
     },
     "0737cee58adb4af5a9bf06b28f4c35fb": {
      "model_module": "@jupyter-widgets/base",
      "model_module_version": "1.2.0",
      "model_name": "LayoutModel",
      "state": {}
     },
     "079abce2391c48c6a93aa7b192c9ed10": {
      "model_module": "@jupyter-widgets/base",
      "model_module_version": "1.2.0",
      "model_name": "LayoutModel",
      "state": {}
     },
     "07bf7a9e73284095bd597bc993368b64": {
      "model_module": "@jupyter-widgets/base",
      "model_module_version": "1.2.0",
      "model_name": "LayoutModel",
      "state": {}
     },
     "07fbf718d8324331947e5524f23aff38": {
      "model_module": "@jupyter-widgets/base",
      "model_module_version": "1.2.0",
      "model_name": "LayoutModel",
      "state": {}
     },
     "09e2aa1d237342c0ae2ab0ac41159330": {
      "model_module": "@jupyter-widgets/base",
      "model_module_version": "1.2.0",
      "model_name": "LayoutModel",
      "state": {}
     },
     "0aee9ce91cf74d4084fe29e98beb61e8": {
      "model_module": "jupyter-matplotlib",
      "model_module_version": "^0.7.4",
      "model_name": "ToolbarModel",
      "state": {
       "layout": "IPY_MODEL_8761b18adf0d4206b0a0a91ecdbde791",
       "toolitems": [
        [
         "Home",
         "Reset original view",
         "home",
         "home"
        ],
        [
         "Back",
         "Back to previous view",
         "arrow-left",
         "back"
        ],
        [
         "Forward",
         "Forward to next view",
         "arrow-right",
         "forward"
        ],
        [
         "Pan",
         "Left button pans, Right button zooms\nx/y fixes axis, CTRL fixes aspect",
         "arrows",
         "pan"
        ],
        [
         "Zoom",
         "Zoom to rectangle\nx/y fixes axis, CTRL fixes aspect",
         "square-o",
         "zoom"
        ],
        [
         "Download",
         "Download plot",
         "floppy-o",
         "save_figure"
        ]
       ]
      }
     },
     "0b1177e18f60419b96202af9750c2ef1": {
      "model_module": "jupyter-matplotlib",
      "model_module_version": "^0.7.4",
      "model_name": "ToolbarModel",
      "state": {
       "layout": "IPY_MODEL_64efabf0f704461bb18c32eea08620d5",
       "toolitems": [
        [
         "Home",
         "Reset original view",
         "home",
         "home"
        ],
        [
         "Back",
         "Back to previous view",
         "arrow-left",
         "back"
        ],
        [
         "Forward",
         "Forward to next view",
         "arrow-right",
         "forward"
        ],
        [
         "Pan",
         "Left button pans, Right button zooms\nx/y fixes axis, CTRL fixes aspect",
         "arrows",
         "pan"
        ],
        [
         "Zoom",
         "Zoom to rectangle\nx/y fixes axis, CTRL fixes aspect",
         "square-o",
         "zoom"
        ],
        [
         "Download",
         "Download plot",
         "floppy-o",
         "save_figure"
        ]
       ]
      }
     },
     "0df21221f4db463bae18cfc5a7b49b8b": {
      "model_module": "@jupyter-widgets/base",
      "model_module_version": "1.2.0",
      "model_name": "LayoutModel",
      "state": {}
     },
     "1019277ba97a4d84819e8f54d0d9a31d": {
      "model_module": "@jupyter-widgets/base",
      "model_module_version": "1.2.0",
      "model_name": "LayoutModel",
      "state": {}
     },
     "13082fcc85ee4214b166dde31cd2f5a4": {
      "model_module": "jupyter-matplotlib",
      "model_module_version": "^0.7.4",
      "model_name": "ToolbarModel",
      "state": {
       "layout": "IPY_MODEL_3f6277c7d9af4460813817c4ed8753a6",
       "toolitems": [
        [
         "Home",
         "Reset original view",
         "home",
         "home"
        ],
        [
         "Back",
         "Back to previous view",
         "arrow-left",
         "back"
        ],
        [
         "Forward",
         "Forward to next view",
         "arrow-right",
         "forward"
        ],
        [
         "Pan",
         "Left button pans, Right button zooms\nx/y fixes axis, CTRL fixes aspect",
         "arrows",
         "pan"
        ],
        [
         "Zoom",
         "Zoom to rectangle\nx/y fixes axis, CTRL fixes aspect",
         "square-o",
         "zoom"
        ],
        [
         "Download",
         "Download plot",
         "floppy-o",
         "save_figure"
        ]
       ]
      }
     },
     "1706ea834a82406284250c8615e7d1df": {
      "model_module": "@jupyter-widgets/base",
      "model_module_version": "1.2.0",
      "model_name": "LayoutModel",
      "state": {}
     },
     "1b66d0dec5f6444f9780fb30303b4712": {
      "model_module": "jupyter-matplotlib",
      "model_module_version": "^0.7.4",
      "model_name": "ToolbarModel",
      "state": {
       "layout": "IPY_MODEL_e21d92537b6f4e9aa5e1ff090814b18e",
       "toolitems": [
        [
         "Home",
         "Reset original view",
         "home",
         "home"
        ],
        [
         "Back",
         "Back to previous view",
         "arrow-left",
         "back"
        ],
        [
         "Forward",
         "Forward to next view",
         "arrow-right",
         "forward"
        ],
        [
         "Pan",
         "Left button pans, Right button zooms\nx/y fixes axis, CTRL fixes aspect",
         "arrows",
         "pan"
        ],
        [
         "Zoom",
         "Zoom to rectangle\nx/y fixes axis, CTRL fixes aspect",
         "square-o",
         "zoom"
        ],
        [
         "Download",
         "Download plot",
         "floppy-o",
         "save_figure"
        ]
       ]
      }
     },
     "1be2261994e648d8ba3ac848caad2c9b": {
      "model_module": "jupyter-matplotlib",
      "model_module_version": "^0.7.4",
      "model_name": "ToolbarModel",
      "state": {
       "layout": "IPY_MODEL_1fffe89218144448a6dc3a6b82da4675",
       "toolitems": [
        [
         "Home",
         "Reset original view",
         "home",
         "home"
        ],
        [
         "Back",
         "Back to previous view",
         "arrow-left",
         "back"
        ],
        [
         "Forward",
         "Forward to next view",
         "arrow-right",
         "forward"
        ],
        [
         "Pan",
         "Left button pans, Right button zooms\nx/y fixes axis, CTRL fixes aspect",
         "arrows",
         "pan"
        ],
        [
         "Zoom",
         "Zoom to rectangle\nx/y fixes axis, CTRL fixes aspect",
         "square-o",
         "zoom"
        ],
        [
         "Download",
         "Download plot",
         "floppy-o",
         "save_figure"
        ]
       ]
      }
     },
     "1d74246ac5844fe397b05d593f340e27": {
      "model_module": "@jupyter-widgets/base",
      "model_module_version": "1.2.0",
      "model_name": "LayoutModel",
      "state": {}
     },
     "1eee691f512a44489ac60af26449e8b3": {
      "model_module": "jupyter-matplotlib",
      "model_module_version": "^0.7.4",
      "model_name": "ToolbarModel",
      "state": {
       "layout": "IPY_MODEL_6a9e9a0a9516463081fb32b3879a6276",
       "toolitems": [
        [
         "Home",
         "Reset original view",
         "home",
         "home"
        ],
        [
         "Back",
         "Back to previous view",
         "arrow-left",
         "back"
        ],
        [
         "Forward",
         "Forward to next view",
         "arrow-right",
         "forward"
        ],
        [
         "Pan",
         "Left button pans, Right button zooms\nx/y fixes axis, CTRL fixes aspect",
         "arrows",
         "pan"
        ],
        [
         "Zoom",
         "Zoom to rectangle\nx/y fixes axis, CTRL fixes aspect",
         "square-o",
         "zoom"
        ],
        [
         "Download",
         "Download plot",
         "floppy-o",
         "save_figure"
        ]
       ]
      }
     },
     "1f26029e038e4e48a384732fc58e83ca": {
      "model_module": "jupyter-matplotlib",
      "model_module_version": "^0.7.4",
      "model_name": "ToolbarModel",
      "state": {
       "layout": "IPY_MODEL_079abce2391c48c6a93aa7b192c9ed10",
       "toolitems": [
        [
         "Home",
         "Reset original view",
         "home",
         "home"
        ],
        [
         "Back",
         "Back to previous view",
         "arrow-left",
         "back"
        ],
        [
         "Forward",
         "Forward to next view",
         "arrow-right",
         "forward"
        ],
        [
         "Pan",
         "Left button pans, Right button zooms\nx/y fixes axis, CTRL fixes aspect",
         "arrows",
         "pan"
        ],
        [
         "Zoom",
         "Zoom to rectangle\nx/y fixes axis, CTRL fixes aspect",
         "square-o",
         "zoom"
        ],
        [
         "Download",
         "Download plot",
         "floppy-o",
         "save_figure"
        ]
       ]
      }
     },
     "1fffe89218144448a6dc3a6b82da4675": {
      "model_module": "@jupyter-widgets/base",
      "model_module_version": "1.2.0",
      "model_name": "LayoutModel",
      "state": {}
     },
     "2274745890ab4b3e91a2228bfffc88dd": {
      "model_module": "@jupyter-widgets/base",
      "model_module_version": "1.2.0",
      "model_name": "LayoutModel",
      "state": {}
     },
     "229350b9cf06482d9f5a721852b1ba4b": {
      "model_module": "jupyter-matplotlib",
      "model_module_version": "^0.7.4",
      "model_name": "ToolbarModel",
      "state": {
       "layout": "IPY_MODEL_09e2aa1d237342c0ae2ab0ac41159330",
       "toolitems": [
        [
         "Home",
         "Reset original view",
         "home",
         "home"
        ],
        [
         "Back",
         "Back to previous view",
         "arrow-left",
         "back"
        ],
        [
         "Forward",
         "Forward to next view",
         "arrow-right",
         "forward"
        ],
        [
         "Pan",
         "Left button pans, Right button zooms\nx/y fixes axis, CTRL fixes aspect",
         "arrows",
         "pan"
        ],
        [
         "Zoom",
         "Zoom to rectangle\nx/y fixes axis, CTRL fixes aspect",
         "square-o",
         "zoom"
        ],
        [
         "Download",
         "Download plot",
         "floppy-o",
         "save_figure"
        ]
       ]
      }
     },
     "291b7015e9044671bf39a67ca6389dfe": {
      "model_module": "@jupyter-widgets/base",
      "model_module_version": "1.2.0",
      "model_name": "LayoutModel",
      "state": {}
     },
     "314452d062ce470787ddaa192c69c016": {
      "model_module": "jupyter-matplotlib",
      "model_module_version": "^0.7.4",
      "model_name": "ToolbarModel",
      "state": {
       "layout": "IPY_MODEL_b664640553b746a8b9d6739ae0a26c95",
       "toolitems": [
        [
         "Home",
         "Reset original view",
         "home",
         "home"
        ],
        [
         "Back",
         "Back to previous view",
         "arrow-left",
         "back"
        ],
        [
         "Forward",
         "Forward to next view",
         "arrow-right",
         "forward"
        ],
        [
         "Pan",
         "Left button pans, Right button zooms\nx/y fixes axis, CTRL fixes aspect",
         "arrows",
         "pan"
        ],
        [
         "Zoom",
         "Zoom to rectangle\nx/y fixes axis, CTRL fixes aspect",
         "square-o",
         "zoom"
        ],
        [
         "Download",
         "Download plot",
         "floppy-o",
         "save_figure"
        ]
       ]
      }
     },
     "335c8119184c4fd19a56ba59cedcbcf3": {
      "model_module": "@jupyter-widgets/base",
      "model_module_version": "1.2.0",
      "model_name": "LayoutModel",
      "state": {}
     },
     "34a26a00a6bf4133b9a830c94abfd361": {
      "model_module": "@jupyter-widgets/base",
      "model_module_version": "1.2.0",
      "model_name": "LayoutModel",
      "state": {}
     },
     "360772461880492e8b02f62293af97ae": {
      "model_module": "@jupyter-widgets/base",
      "model_module_version": "1.2.0",
      "model_name": "LayoutModel",
      "state": {}
     },
     "380811fb3f64458aadbedbfb2c9dcf5b": {
      "model_module": "@jupyter-widgets/base",
      "model_module_version": "1.2.0",
      "model_name": "LayoutModel",
      "state": {}
     },
     "39d1510862684200b5b4d73be1b639c0": {
      "model_module": "jupyter-matplotlib",
      "model_module_version": "^0.7.4",
      "model_name": "ToolbarModel",
      "state": {
       "layout": "IPY_MODEL_d92cdb9e72ad45ada0bbbd42aada6a87",
       "toolitems": [
        [
         "Home",
         "Reset original view",
         "home",
         "home"
        ],
        [
         "Back",
         "Back to previous view",
         "arrow-left",
         "back"
        ],
        [
         "Forward",
         "Forward to next view",
         "arrow-right",
         "forward"
        ],
        [
         "Pan",
         "Left button pans, Right button zooms\nx/y fixes axis, CTRL fixes aspect",
         "arrows",
         "pan"
        ],
        [
         "Zoom",
         "Zoom to rectangle\nx/y fixes axis, CTRL fixes aspect",
         "square-o",
         "zoom"
        ],
        [
         "Download",
         "Download plot",
         "floppy-o",
         "save_figure"
        ]
       ]
      }
     },
     "3a79d2c6f04d4a76bfb55751549c2ac4": {
      "model_module": "@jupyter-widgets/base",
      "model_module_version": "1.2.0",
      "model_name": "LayoutModel",
      "state": {}
     },
     "3f6277c7d9af4460813817c4ed8753a6": {
      "model_module": "@jupyter-widgets/base",
      "model_module_version": "1.2.0",
      "model_name": "LayoutModel",
      "state": {}
     },
     "3f97d12203d04608b608178900148023": {
      "model_module": "@jupyter-widgets/base",
      "model_module_version": "1.2.0",
      "model_name": "LayoutModel",
      "state": {}
     },
     "3fff0b78c08e48a0942ea5747e7c080e": {
      "model_module": "jupyter-matplotlib",
      "model_module_version": "^0.7.4",
      "model_name": "ToolbarModel",
      "state": {
       "layout": "IPY_MODEL_2274745890ab4b3e91a2228bfffc88dd",
       "toolitems": [
        [
         "Home",
         "Reset original view",
         "home",
         "home"
        ],
        [
         "Back",
         "Back to previous view",
         "arrow-left",
         "back"
        ],
        [
         "Forward",
         "Forward to next view",
         "arrow-right",
         "forward"
        ],
        [
         "Pan",
         "Left button pans, Right button zooms\nx/y fixes axis, CTRL fixes aspect",
         "arrows",
         "pan"
        ],
        [
         "Zoom",
         "Zoom to rectangle\nx/y fixes axis, CTRL fixes aspect",
         "square-o",
         "zoom"
        ],
        [
         "Download",
         "Download plot",
         "floppy-o",
         "save_figure"
        ]
       ]
      }
     },
     "42635b227bfe41e3887786f209065d42": {
      "model_module": "@jupyter-widgets/base",
      "model_module_version": "1.2.0",
      "model_name": "LayoutModel",
      "state": {}
     },
     "487ca934af214ef0ab1d078922642605": {
      "model_module": "jupyter-matplotlib",
      "model_module_version": "^0.7.4",
      "model_name": "ToolbarModel",
      "state": {
       "layout": "IPY_MODEL_42635b227bfe41e3887786f209065d42",
       "toolitems": [
        [
         "Home",
         "Reset original view",
         "home",
         "home"
        ],
        [
         "Back",
         "Back to previous view",
         "arrow-left",
         "back"
        ],
        [
         "Forward",
         "Forward to next view",
         "arrow-right",
         "forward"
        ],
        [
         "Pan",
         "Left button pans, Right button zooms\nx/y fixes axis, CTRL fixes aspect",
         "arrows",
         "pan"
        ],
        [
         "Zoom",
         "Zoom to rectangle\nx/y fixes axis, CTRL fixes aspect",
         "square-o",
         "zoom"
        ],
        [
         "Download",
         "Download plot",
         "floppy-o",
         "save_figure"
        ]
       ]
      }
     },
     "5044aab8d57945918d70c4878bf5cc15": {
      "model_module": "@jupyter-widgets/base",
      "model_module_version": "1.2.0",
      "model_name": "LayoutModel",
      "state": {}
     },
     "64efabf0f704461bb18c32eea08620d5": {
      "model_module": "@jupyter-widgets/base",
      "model_module_version": "1.2.0",
      "model_name": "LayoutModel",
      "state": {}
     },
     "66d9a18688f34eb9bdbfcd6d392b2767": {
      "model_module": "@jupyter-widgets/base",
      "model_module_version": "1.2.0",
      "model_name": "LayoutModel",
      "state": {}
     },
     "6a9e9a0a9516463081fb32b3879a6276": {
      "model_module": "@jupyter-widgets/base",
      "model_module_version": "1.2.0",
      "model_name": "LayoutModel",
      "state": {}
     },
     "6e29102162b24525a2e9f13b863f4e54": {
      "model_module": "@jupyter-widgets/base",
      "model_module_version": "1.2.0",
      "model_name": "LayoutModel",
      "state": {}
     },
     "71c18f3b3c154cd28bfb118834de1fe3": {
      "model_module": "@jupyter-widgets/base",
      "model_module_version": "1.2.0",
      "model_name": "LayoutModel",
      "state": {}
     },
     "7389fd9442824ae7987d4875541dd7f8": {
      "model_module": "@jupyter-widgets/base",
      "model_module_version": "1.2.0",
      "model_name": "LayoutModel",
      "state": {}
     },
     "813624fa6dad4a36bfb7db352fe6fb7e": {
      "model_module": "@jupyter-widgets/base",
      "model_module_version": "1.2.0",
      "model_name": "LayoutModel",
      "state": {}
     },
     "83a25cf56dc643fbabb17b70c4924ad7": {
      "model_module": "@jupyter-widgets/base",
      "model_module_version": "1.2.0",
      "model_name": "LayoutModel",
      "state": {}
     },
     "84706c86916b48ab8ccd7333fe712dbd": {
      "model_module": "@jupyter-widgets/base",
      "model_module_version": "1.2.0",
      "model_name": "LayoutModel",
      "state": {}
     },
     "86dc5aff63b54852802d321195e87583": {
      "model_module": "jupyter-matplotlib",
      "model_module_version": "^0.7.4",
      "model_name": "ToolbarModel",
      "state": {
       "layout": "IPY_MODEL_07fbf718d8324331947e5524f23aff38",
       "toolitems": [
        [
         "Home",
         "Reset original view",
         "home",
         "home"
        ],
        [
         "Back",
         "Back to previous view",
         "arrow-left",
         "back"
        ],
        [
         "Forward",
         "Forward to next view",
         "arrow-right",
         "forward"
        ],
        [
         "Pan",
         "Left button pans, Right button zooms\nx/y fixes axis, CTRL fixes aspect",
         "arrows",
         "pan"
        ],
        [
         "Zoom",
         "Zoom to rectangle\nx/y fixes axis, CTRL fixes aspect",
         "square-o",
         "zoom"
        ],
        [
         "Download",
         "Download plot",
         "floppy-o",
         "save_figure"
        ]
       ]
      }
     },
     "8761b18adf0d4206b0a0a91ecdbde791": {
      "model_module": "@jupyter-widgets/base",
      "model_module_version": "1.2.0",
      "model_name": "LayoutModel",
      "state": {}
     },
     "8a972870e6bf495e9fd6048a3befcefe": {
      "model_module": "jupyter-matplotlib",
      "model_module_version": "^0.7.4",
      "model_name": "ToolbarModel",
      "state": {
       "layout": "IPY_MODEL_ef8b37c9e82d48bdae1b8974ba0afcc3",
       "toolitems": [
        [
         "Home",
         "Reset original view",
         "home",
         "home"
        ],
        [
         "Back",
         "Back to previous view",
         "arrow-left",
         "back"
        ],
        [
         "Forward",
         "Forward to next view",
         "arrow-right",
         "forward"
        ],
        [
         "Pan",
         "Left button pans, Right button zooms\nx/y fixes axis, CTRL fixes aspect",
         "arrows",
         "pan"
        ],
        [
         "Zoom",
         "Zoom to rectangle\nx/y fixes axis, CTRL fixes aspect",
         "square-o",
         "zoom"
        ],
        [
         "Download",
         "Download plot",
         "floppy-o",
         "save_figure"
        ]
       ]
      }
     },
     "8b2dd33d93c5412ea8af679f1b466ab7": {
      "model_module": "@jupyter-widgets/base",
      "model_module_version": "1.2.0",
      "model_name": "LayoutModel",
      "state": {}
     },
     "8bb1d2b3c3e84adabf9ea5d89da22692": {
      "model_module": "@jupyter-widgets/base",
      "model_module_version": "1.2.0",
      "model_name": "LayoutModel",
      "state": {}
     },
     "918920a5d0db4d868a944265a35f6151": {
      "model_module": "jupyter-matplotlib",
      "model_module_version": "^0.7.4",
      "model_name": "ToolbarModel",
      "state": {
       "layout": "IPY_MODEL_d58f7e6fb1364622ab28d722c9428742",
       "toolitems": [
        [
         "Home",
         "Reset original view",
         "home",
         "home"
        ],
        [
         "Back",
         "Back to previous view",
         "arrow-left",
         "back"
        ],
        [
         "Forward",
         "Forward to next view",
         "arrow-right",
         "forward"
        ],
        [
         "Pan",
         "Left button pans, Right button zooms\nx/y fixes axis, CTRL fixes aspect",
         "arrows",
         "pan"
        ],
        [
         "Zoom",
         "Zoom to rectangle\nx/y fixes axis, CTRL fixes aspect",
         "square-o",
         "zoom"
        ],
        [
         "Download",
         "Download plot",
         "floppy-o",
         "save_figure"
        ]
       ]
      }
     },
     "92aac9b4fe7847fd8e14c3390a29852a": {
      "model_module": "@jupyter-widgets/base",
      "model_module_version": "1.2.0",
      "model_name": "LayoutModel",
      "state": {}
     },
     "961602b4e6584203ae7f8f369e0dba97": {
      "model_module": "jupyter-matplotlib",
      "model_module_version": "^0.7.4",
      "model_name": "ToolbarModel",
      "state": {
       "layout": "IPY_MODEL_360772461880492e8b02f62293af97ae",
       "toolitems": [
        [
         "Home",
         "Reset original view",
         "home",
         "home"
        ],
        [
         "Back",
         "Back to previous view",
         "arrow-left",
         "back"
        ],
        [
         "Forward",
         "Forward to next view",
         "arrow-right",
         "forward"
        ],
        [
         "Pan",
         "Left button pans, Right button zooms\nx/y fixes axis, CTRL fixes aspect",
         "arrows",
         "pan"
        ],
        [
         "Zoom",
         "Zoom to rectangle\nx/y fixes axis, CTRL fixes aspect",
         "square-o",
         "zoom"
        ],
        [
         "Download",
         "Download plot",
         "floppy-o",
         "save_figure"
        ]
       ]
      }
     },
     "9ac74fbb906346a6809feefd89963ac3": {
      "model_module": "@jupyter-widgets/base",
      "model_module_version": "1.2.0",
      "model_name": "LayoutModel",
      "state": {}
     },
     "9d46c05d9e74406681af09e4a79c60d9": {
      "model_module": "jupyter-matplotlib",
      "model_module_version": "^0.7.4",
      "model_name": "ToolbarModel",
      "state": {
       "layout": "IPY_MODEL_380811fb3f64458aadbedbfb2c9dcf5b",
       "toolitems": [
        [
         "Home",
         "Reset original view",
         "home",
         "home"
        ],
        [
         "Back",
         "Back to previous view",
         "arrow-left",
         "back"
        ],
        [
         "Forward",
         "Forward to next view",
         "arrow-right",
         "forward"
        ],
        [
         "Pan",
         "Left button pans, Right button zooms\nx/y fixes axis, CTRL fixes aspect",
         "arrows",
         "pan"
        ],
        [
         "Zoom",
         "Zoom to rectangle\nx/y fixes axis, CTRL fixes aspect",
         "square-o",
         "zoom"
        ],
        [
         "Download",
         "Download plot",
         "floppy-o",
         "save_figure"
        ]
       ]
      }
     },
     "9d736c50c52a45928c788f36b787fbd5": {
      "model_module": "@jupyter-widgets/base",
      "model_module_version": "1.2.0",
      "model_name": "LayoutModel",
      "state": {}
     },
     "9fbb768690af4e06bfcda045a35ec804": {
      "model_module": "jupyter-matplotlib",
      "model_module_version": "^0.7.4",
      "model_name": "ToolbarModel",
      "state": {
       "layout": "IPY_MODEL_1d74246ac5844fe397b05d593f340e27",
       "toolitems": [
        [
         "Home",
         "Reset original view",
         "home",
         "home"
        ],
        [
         "Back",
         "Back to previous view",
         "arrow-left",
         "back"
        ],
        [
         "Forward",
         "Forward to next view",
         "arrow-right",
         "forward"
        ],
        [
         "Pan",
         "Left button pans, Right button zooms\nx/y fixes axis, CTRL fixes aspect",
         "arrows",
         "pan"
        ],
        [
         "Zoom",
         "Zoom to rectangle\nx/y fixes axis, CTRL fixes aspect",
         "square-o",
         "zoom"
        ],
        [
         "Download",
         "Download plot",
         "floppy-o",
         "save_figure"
        ]
       ]
      }
     },
     "a0796cdab0f74240885f95a48d3a1842": {
      "model_module": "@jupyter-widgets/base",
      "model_module_version": "1.2.0",
      "model_name": "LayoutModel",
      "state": {}
     },
     "a3ac8f5033bb4e3ab229c14ba8816959": {
      "model_module": "@jupyter-widgets/base",
      "model_module_version": "1.2.0",
      "model_name": "LayoutModel",
      "state": {}
     },
     "a66ed789d266490f9ad391b078138567": {
      "model_module": "@jupyter-widgets/base",
      "model_module_version": "1.2.0",
      "model_name": "LayoutModel",
      "state": {}
     },
     "ab1fccd9ae2c4e9083526687dd20607f": {
      "model_module": "jupyter-matplotlib",
      "model_module_version": "^0.7.4",
      "model_name": "ToolbarModel",
      "state": {
       "layout": "IPY_MODEL_9d736c50c52a45928c788f36b787fbd5",
       "toolitems": [
        [
         "Home",
         "Reset original view",
         "home",
         "home"
        ],
        [
         "Back",
         "Back to previous view",
         "arrow-left",
         "back"
        ],
        [
         "Forward",
         "Forward to next view",
         "arrow-right",
         "forward"
        ],
        [
         "Pan",
         "Left button pans, Right button zooms\nx/y fixes axis, CTRL fixes aspect",
         "arrows",
         "pan"
        ],
        [
         "Zoom",
         "Zoom to rectangle\nx/y fixes axis, CTRL fixes aspect",
         "square-o",
         "zoom"
        ],
        [
         "Download",
         "Download plot",
         "floppy-o",
         "save_figure"
        ]
       ]
      }
     },
     "ad6b85d71b9f4878a5fdd743b6f4445b": {
      "model_module": "@jupyter-widgets/base",
      "model_module_version": "1.2.0",
      "model_name": "LayoutModel",
      "state": {}
     },
     "ae3cad8507d64de8893814e858912bec": {
      "model_module": "@jupyter-widgets/base",
      "model_module_version": "1.2.0",
      "model_name": "LayoutModel",
      "state": {}
     },
     "b17db0d08d05449bacd16df3262e7884": {
      "model_module": "@jupyter-widgets/base",
      "model_module_version": "1.2.0",
      "model_name": "LayoutModel",
      "state": {}
     },
     "b25912c52f1941d3bfa03082dd2fd9de": {
      "model_module": "@jupyter-widgets/base",
      "model_module_version": "1.2.0",
      "model_name": "LayoutModel",
      "state": {}
     },
     "b37e39738375422abad75cec1a6aecb3": {
      "model_module": "jupyter-matplotlib",
      "model_module_version": "^0.7.4",
      "model_name": "ToolbarModel",
      "state": {
       "layout": "IPY_MODEL_a0796cdab0f74240885f95a48d3a1842",
       "toolitems": [
        [
         "Home",
         "Reset original view",
         "home",
         "home"
        ],
        [
         "Back",
         "Back to previous view",
         "arrow-left",
         "back"
        ],
        [
         "Forward",
         "Forward to next view",
         "arrow-right",
         "forward"
        ],
        [
         "Pan",
         "Left button pans, Right button zooms\nx/y fixes axis, CTRL fixes aspect",
         "arrows",
         "pan"
        ],
        [
         "Zoom",
         "Zoom to rectangle\nx/y fixes axis, CTRL fixes aspect",
         "square-o",
         "zoom"
        ],
        [
         "Download",
         "Download plot",
         "floppy-o",
         "save_figure"
        ]
       ]
      }
     },
     "b664640553b746a8b9d6739ae0a26c95": {
      "model_module": "@jupyter-widgets/base",
      "model_module_version": "1.2.0",
      "model_name": "LayoutModel",
      "state": {}
     },
     "bb1a648c252c492bb2027fe647afdaf4": {
      "model_module": "@jupyter-widgets/base",
      "model_module_version": "1.2.0",
      "model_name": "LayoutModel",
      "state": {}
     },
     "bb31a77fa20e49d5bfb01a1398b3d594": {
      "model_module": "@jupyter-widgets/base",
      "model_module_version": "1.2.0",
      "model_name": "LayoutModel",
      "state": {}
     },
     "c0aac08ffe984bbca90a2fc4cda6e909": {
      "model_module": "@jupyter-widgets/base",
      "model_module_version": "1.2.0",
      "model_name": "LayoutModel",
      "state": {}
     },
     "c1d1c31a64ad4bf2a08f12eef34527c4": {
      "model_module": "jupyter-matplotlib",
      "model_module_version": "^0.7.4",
      "model_name": "ToolbarModel",
      "state": {
       "layout": "IPY_MODEL_fde025563a9d469986a28eeec4e6e243",
       "toolitems": [
        [
         "Home",
         "Reset original view",
         "home",
         "home"
        ],
        [
         "Back",
         "Back to previous view",
         "arrow-left",
         "back"
        ],
        [
         "Forward",
         "Forward to next view",
         "arrow-right",
         "forward"
        ],
        [
         "Pan",
         "Left button pans, Right button zooms\nx/y fixes axis, CTRL fixes aspect",
         "arrows",
         "pan"
        ],
        [
         "Zoom",
         "Zoom to rectangle\nx/y fixes axis, CTRL fixes aspect",
         "square-o",
         "zoom"
        ],
        [
         "Download",
         "Download plot",
         "floppy-o",
         "save_figure"
        ]
       ]
      }
     },
     "c80332caa7904bb7b0daa4c19f351530": {
      "model_module": "@jupyter-widgets/base",
      "model_module_version": "1.2.0",
      "model_name": "LayoutModel",
      "state": {}
     },
     "c88bc1d9e483462f97858ab23ea78cfe": {
      "model_module": "jupyter-matplotlib",
      "model_module_version": "^0.7.4",
      "model_name": "ToolbarModel",
      "state": {
       "layout": "IPY_MODEL_bb1a648c252c492bb2027fe647afdaf4",
       "toolitems": [
        [
         "Home",
         "Reset original view",
         "home",
         "home"
        ],
        [
         "Back",
         "Back to previous view",
         "arrow-left",
         "back"
        ],
        [
         "Forward",
         "Forward to next view",
         "arrow-right",
         "forward"
        ],
        [
         "Pan",
         "Left button pans, Right button zooms\nx/y fixes axis, CTRL fixes aspect",
         "arrows",
         "pan"
        ],
        [
         "Zoom",
         "Zoom to rectangle\nx/y fixes axis, CTRL fixes aspect",
         "square-o",
         "zoom"
        ],
        [
         "Download",
         "Download plot",
         "floppy-o",
         "save_figure"
        ]
       ]
      }
     },
     "cbd95a893d764c0caadd5fb00b42f332": {
      "model_module": "@jupyter-widgets/base",
      "model_module_version": "1.2.0",
      "model_name": "LayoutModel",
      "state": {}
     },
     "cd58f3c1a4cd4b2bb4eecaf430fb3629": {
      "model_module": "jupyter-matplotlib",
      "model_module_version": "^0.7.4",
      "model_name": "ToolbarModel",
      "state": {
       "layout": "IPY_MODEL_84706c86916b48ab8ccd7333fe712dbd",
       "toolitems": [
        [
         "Home",
         "Reset original view",
         "home",
         "home"
        ],
        [
         "Back",
         "Back to previous view",
         "arrow-left",
         "back"
        ],
        [
         "Forward",
         "Forward to next view",
         "arrow-right",
         "forward"
        ],
        [
         "Pan",
         "Left button pans, Right button zooms\nx/y fixes axis, CTRL fixes aspect",
         "arrows",
         "pan"
        ],
        [
         "Zoom",
         "Zoom to rectangle\nx/y fixes axis, CTRL fixes aspect",
         "square-o",
         "zoom"
        ],
        [
         "Download",
         "Download plot",
         "floppy-o",
         "save_figure"
        ]
       ]
      }
     },
     "d1426b934ad34284b0cf6495faf1f050": {
      "model_module": "jupyter-matplotlib",
      "model_module_version": "^0.7.4",
      "model_name": "ToolbarModel",
      "state": {
       "layout": "IPY_MODEL_0737cee58adb4af5a9bf06b28f4c35fb",
       "toolitems": [
        [
         "Home",
         "Reset original view",
         "home",
         "home"
        ],
        [
         "Back",
         "Back to previous view",
         "arrow-left",
         "back"
        ],
        [
         "Forward",
         "Forward to next view",
         "arrow-right",
         "forward"
        ],
        [
         "Pan",
         "Left button pans, Right button zooms\nx/y fixes axis, CTRL fixes aspect",
         "arrows",
         "pan"
        ],
        [
         "Zoom",
         "Zoom to rectangle\nx/y fixes axis, CTRL fixes aspect",
         "square-o",
         "zoom"
        ],
        [
         "Download",
         "Download plot",
         "floppy-o",
         "save_figure"
        ]
       ]
      }
     },
     "d58f7e6fb1364622ab28d722c9428742": {
      "model_module": "@jupyter-widgets/base",
      "model_module_version": "1.2.0",
      "model_name": "LayoutModel",
      "state": {}
     },
     "d92cdb9e72ad45ada0bbbd42aada6a87": {
      "model_module": "@jupyter-widgets/base",
      "model_module_version": "1.2.0",
      "model_name": "LayoutModel",
      "state": {}
     },
     "dafd389f304a40e1ad62cd0d4930853f": {
      "model_module": "jupyter-matplotlib",
      "model_module_version": "^0.7.4",
      "model_name": "ToolbarModel",
      "state": {
       "layout": "IPY_MODEL_8b2dd33d93c5412ea8af679f1b466ab7",
       "toolitems": [
        [
         "Home",
         "Reset original view",
         "home",
         "home"
        ],
        [
         "Back",
         "Back to previous view",
         "arrow-left",
         "back"
        ],
        [
         "Forward",
         "Forward to next view",
         "arrow-right",
         "forward"
        ],
        [
         "Pan",
         "Left button pans, Right button zooms\nx/y fixes axis, CTRL fixes aspect",
         "arrows",
         "pan"
        ],
        [
         "Zoom",
         "Zoom to rectangle\nx/y fixes axis, CTRL fixes aspect",
         "square-o",
         "zoom"
        ],
        [
         "Download",
         "Download plot",
         "floppy-o",
         "save_figure"
        ]
       ]
      }
     },
     "de22985e561f40f3a4d8589bfa4fdbd0": {
      "model_module": "jupyter-matplotlib",
      "model_module_version": "^0.7.4",
      "model_name": "ToolbarModel",
      "state": {
       "layout": "IPY_MODEL_cbd95a893d764c0caadd5fb00b42f332",
       "toolitems": [
        [
         "Home",
         "Reset original view",
         "home",
         "home"
        ],
        [
         "Back",
         "Back to previous view",
         "arrow-left",
         "back"
        ],
        [
         "Forward",
         "Forward to next view",
         "arrow-right",
         "forward"
        ],
        [
         "Pan",
         "Left button pans, Right button zooms\nx/y fixes axis, CTRL fixes aspect",
         "arrows",
         "pan"
        ],
        [
         "Zoom",
         "Zoom to rectangle\nx/y fixes axis, CTRL fixes aspect",
         "square-o",
         "zoom"
        ],
        [
         "Download",
         "Download plot",
         "floppy-o",
         "save_figure"
        ]
       ]
      }
     },
     "e11ca77e427a4ac8a2cc027c4706ee05": {
      "model_module": "jupyter-matplotlib",
      "model_module_version": "^0.7.4",
      "model_name": "ToolbarModel",
      "state": {
       "layout": "IPY_MODEL_1706ea834a82406284250c8615e7d1df",
       "toolitems": [
        [
         "Home",
         "Reset original view",
         "home",
         "home"
        ],
        [
         "Back",
         "Back to previous view",
         "arrow-left",
         "back"
        ],
        [
         "Forward",
         "Forward to next view",
         "arrow-right",
         "forward"
        ],
        [
         "Pan",
         "Left button pans, Right button zooms\nx/y fixes axis, CTRL fixes aspect",
         "arrows",
         "pan"
        ],
        [
         "Zoom",
         "Zoom to rectangle\nx/y fixes axis, CTRL fixes aspect",
         "square-o",
         "zoom"
        ],
        [
         "Download",
         "Download plot",
         "floppy-o",
         "save_figure"
        ]
       ]
      }
     },
     "e21d92537b6f4e9aa5e1ff090814b18e": {
      "model_module": "@jupyter-widgets/base",
      "model_module_version": "1.2.0",
      "model_name": "LayoutModel",
      "state": {}
     },
     "ec2d0f57184647c6a22536cf8a3401f2": {
      "model_module": "jupyter-matplotlib",
      "model_module_version": "^0.7.4",
      "model_name": "ToolbarModel",
      "state": {
       "layout": "IPY_MODEL_71c18f3b3c154cd28bfb118834de1fe3",
       "toolitems": [
        [
         "Home",
         "Reset original view",
         "home",
         "home"
        ],
        [
         "Back",
         "Back to previous view",
         "arrow-left",
         "back"
        ],
        [
         "Forward",
         "Forward to next view",
         "arrow-right",
         "forward"
        ],
        [
         "Pan",
         "Left button pans, Right button zooms\nx/y fixes axis, CTRL fixes aspect",
         "arrows",
         "pan"
        ],
        [
         "Zoom",
         "Zoom to rectangle\nx/y fixes axis, CTRL fixes aspect",
         "square-o",
         "zoom"
        ],
        [
         "Download",
         "Download plot",
         "floppy-o",
         "save_figure"
        ]
       ]
      }
     },
     "ef8b37c9e82d48bdae1b8974ba0afcc3": {
      "model_module": "@jupyter-widgets/base",
      "model_module_version": "1.2.0",
      "model_name": "LayoutModel",
      "state": {}
     },
     "efee5bbcaae54041925d3c68a413aa94": {
      "model_module": "@jupyter-widgets/base",
      "model_module_version": "1.2.0",
      "model_name": "LayoutModel",
      "state": {}
     },
     "f69944bb41474b55bb991b827765666b": {
      "model_module": "@jupyter-widgets/base",
      "model_module_version": "1.2.0",
      "model_name": "LayoutModel",
      "state": {}
     },
     "f6a73b40958c47458daa2563c3e6c056": {
      "model_module": "jupyter-matplotlib",
      "model_module_version": "^0.7.4",
      "model_name": "ToolbarModel",
      "state": {
       "layout": "IPY_MODEL_c0aac08ffe984bbca90a2fc4cda6e909",
       "toolitems": [
        [
         "Home",
         "Reset original view",
         "home",
         "home"
        ],
        [
         "Back",
         "Back to previous view",
         "arrow-left",
         "back"
        ],
        [
         "Forward",
         "Forward to next view",
         "arrow-right",
         "forward"
        ],
        [
         "Pan",
         "Left button pans, Right button zooms\nx/y fixes axis, CTRL fixes aspect",
         "arrows",
         "pan"
        ],
        [
         "Zoom",
         "Zoom to rectangle\nx/y fixes axis, CTRL fixes aspect",
         "square-o",
         "zoom"
        ],
        [
         "Download",
         "Download plot",
         "floppy-o",
         "save_figure"
        ]
       ]
      }
     },
     "fde025563a9d469986a28eeec4e6e243": {
      "model_module": "@jupyter-widgets/base",
      "model_module_version": "1.2.0",
      "model_name": "LayoutModel",
      "state": {}
     },
     "ffef0677bfc44cadabce7e07757d6252": {
      "model_module": "@jupyter-widgets/base",
      "model_module_version": "1.2.0",
      "model_name": "LayoutModel",
      "state": {}
     }
    },
    "version_major": 2,
    "version_minor": 0
   }
  }
 },
 "nbformat": 4,
 "nbformat_minor": 4
}
